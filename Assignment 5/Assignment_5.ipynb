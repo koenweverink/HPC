{
 "cells": [
  {
   "cell_type": "code",
   "execution_count": null,
   "metadata": {
    "vscode": {
     "languageId": "plaintext"
    }
   },
   "outputs": [],
   "source": [
    "import pycuda.driver as cuda\n",
    "import pycuda.autoinit\n",
    "from pycuda.compiler import SourceModule\n",
    "import numpy as np\n",
    "import time\n",
    "import matplotlib.pyplot as plt"
   ]
  },
  {
   "cell_type": "code",
   "execution_count": null,
   "metadata": {
    "vscode": {
     "languageId": "plaintext"
    }
   },
   "outputs": [],
   "source": [
    "# Kernel for left rotation\n",
    "kernel_code = \"\"\"\n",
    "__global__ void left_rotate(int *input, int *output, int n) {\n",
    "    int idx = threadIdx.x + blockIdx.x * blockDim.x;\n",
    "\n",
    "    if (idx < n) {\n",
    "        // Calculate the new index after left rotation\n",
    "        int new_idx = (idx + n - 1) % n;\n",
    "        output[new_idx] = input[idx];\n",
    "    }\n",
    "}\n",
    "\"\"\""
   ]
  },
  {
   "cell_type": "code",
   "execution_count": null,
   "metadata": {
    "vscode": {
     "languageId": "plaintext"
    }
   },
   "outputs": [],
   "source": [
    "# Compile the kernel\n",
    "mod = SourceModule(kernel_code)\n",
    "left_rotate = mod.get_function(\"left_rotate\")\n",
    "\n",
    "# Input array\n",
    "input_array = np.random.randint(0, 100, size=1024, dtype=np.int32)\n",
    "array_size = input_array.size\n",
    "\n",
    "# Allocate memory for input and output arrays on the GPU\n",
    "input_gpu = cuda.mem_alloc(input_array.nbytes)\n",
    "output_gpu = cuda.mem_alloc(input_array.nbytes)\n",
    "\n",
    "# Measure data transfer time (Host to Device)\n",
    "start_transfer_htod = time.time()\n",
    "cuda.memcpy_htod(input_gpu, input_array)\n",
    "end_transfer_htod = time.time()\n",
    "htod_transfer_time = end_transfer_htod - start_transfer_htod\n",
    "\n",
    "# Measure kernel execution time\n",
    "start_kernel = time.time()\n",
    "left_rotate(input_gpu, output_gpu, np.int32(array_size), block=(array_size, 1, 1), grid=(1, 1))\n",
    "end_kernel = time.time()\n",
    "kernel_execution_time = end_kernel - start_kernel\n",
    "\n",
    "# Measure data transfer time (Device to Host)\n",
    "start_transfer_dtoh = time.time()\n",
    "cuda.memcpy_dtoh(output_array, output_gpu)\n",
    "end_transfer_dtoh = time.time()\n",
    "dtoh_transfer_time = end_transfer_dtoh - start_transfer_dtoh\n",
    "\n",
    "# Total data transfer time\n",
    "gpu_data_transfer_time = htod_transfer_time + dtoh_transfer_time\n",
    "\n",
    "# Total GPU execution time\n",
    "gpu_execution_time = gpu_data_transfer_time + kernel_execution_time\n",
    "\n",
    "# Sequential CPU implementation\n",
    "start_cpu = time.time()\n",
    "cpu_output = np.roll(input_array, -1)\n",
    "end_cpu = time.time()\n",
    "cpu_execution_time = end_cpu - start_cpu"
   ]
  },
  {
   "cell_type": "code",
   "execution_count": null,
   "metadata": {
    "vscode": {
     "languageId": "plaintext"
    }
   },
   "outputs": [],
   "source": [
    "# Save plots\n",
    "# Graph 1: Execution Time Comparison\n",
    "plt.figure(figsize=(8, 6))\n",
    "plt.bar([\"CPU\", \"GPU\"], [cpu_execution_time, gpu_execution_time], color=[\"blue\", \"orange\"])\n",
    "plt.ylabel(\"Execution Time (seconds)\")\n",
    "plt.title(\"Execution Time Comparison: CPU vs GPU\")\n",
    "plt.savefig(\"execution_time_comparison.png\")"
   ]
  },
  {
   "cell_type": "code",
   "execution_count": null,
   "metadata": {
    "vscode": {
     "languageId": "plaintext"
    }
   },
   "outputs": [],
   "source": [
    "# Graph 2: Overhead Breakdown for GPU\n",
    "plt.figure(figsize=(8, 6))\n",
    "plt.bar(\n",
    "    [\"Data Transfer\", \"Kernel Execution\"],\n",
    "    [gpu_data_transfer_time, gpu_kernel_execution_time],\n",
    "    color=[\"green\", \"red\"]\n",
    ")\n",
    "plt.ylabel(\"Time (seconds)\")\n",
    "plt.title(\"GPU Execution Time Breakdown\")\n",
    "plt.savefig(\"gpu_execution_time_breakdown.png\")"
   ]
  },
  {
   "cell_type": "code",
   "execution_count": null,
   "metadata": {
    "vscode": {
     "languageId": "plaintext"
    }
   },
   "outputs": [],
   "source": [
    "# Graph 3: Relative Speedup\n",
    "relative_speedup = cpu_execution_time / gpu_execution_time\n",
    "plt.figure(figsize=(8, 6))\n",
    "plt.bar([\"Relative Speedup\"], [relative_speedup], color=\"purple\")\n",
    "plt.ylabel(\"Speedup Factor (CPU/GPU)\")\n",
    "plt.title(\"Relative Speedup (GPU vs CPU)\")\n",
    "plt.axhline(y=1, color=\"black\", linestyle=\"--\", label=\"Equal Performance\")\n",
    "plt.legend()\n",
    "plt.savefig(\"relative_speedup.png\")"
   ]
  },
  {
   "cell_type": "code",
   "execution_count": null,
   "metadata": {
    "vscode": {
     "languageId": "plaintext"
    }
   },
   "outputs": [],
   "source": [
    "# Graph 4: Performance Overhead\n",
    "plt.figure(figsize=(8, 6))\n",
    "labels = [\"Data Transfer\", \"Kernel Execution\"]\n",
    "sizes = [gpu_data_transfer_time, gpu_kernel_execution_time]\n",
    "colors = [\"green\", \"red\"]\n",
    "plt.pie(sizes, labels=labels, colors=colors, autopct=\"%1.1f%%\", startangle=140)\n",
    "plt.title(\"GPU Performance Overhead\")\n",
    "plt.savefig(\"gpu_performance_overhead.png\")"
   ]
  },
  {
   "cell_type": "code",
   "execution_count": null,
   "metadata": {
    "vscode": {
     "languageId": "plaintext"
    }
   },
   "outputs": [],
   "source": [
    "# Print results\n",
    "print(\"Input Array:\", input_array)\n",
    "print(\"Output Array (Left Rotated) [GPU]:\", output_array)\n",
    "print(\"GPU Execution Time:\", gpu_execution_time, \"seconds\")\n",
    "print(\"Output Array (Left Rotated) [CPU]:\", cpu_output)\n",
    "print(\"CPU Execution Time:\", cpu_execution_time, \"seconds\")\n",
    "print(\"Relative Speedup:\", relative_speedup)\n",
    "if np.array_equal(output_array, cpu_output):\n",
    "    print(\"Validation Passed: GPU and CPU results match.\")\n",
    "else:\n",
    "    print(\"Validation Failed: GPU and CPU results do not match.\")"
   ]
  }
 ],
 "metadata": {
  "language_info": {
   "name": "python"
  }
 },
 "nbformat": 4,
 "nbformat_minor": 2
}
